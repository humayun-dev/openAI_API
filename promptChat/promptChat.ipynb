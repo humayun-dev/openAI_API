{
  "nbformat": 4,
  "nbformat_minor": 0,
  "metadata": {
    "colab": {
      "provenance": []
    },
    "kernelspec": {
      "name": "python3",
      "display_name": "Python 3"
    },
    "language_info": {
      "name": "python"
    }
  },
  "cells": [
    {
      "cell_type": "code",
      "execution_count": 1,
      "metadata": {
        "colab": {
          "base_uri": "https://localhost:8080/"
        },
        "id": "Z1S6rU4H1-RX",
        "outputId": "5184c997-519f-4426-f000-38da05723407"
      },
      "outputs": [
        {
          "output_type": "stream",
          "name": "stdout",
          "text": [
            "\u001b[?25l   \u001b[90m━━━━━━━━━━━━━━━━━━━━━━━━━━━━━━━━━━━━━━━━\u001b[0m \u001b[32m0.0/386.9 kB\u001b[0m \u001b[31m?\u001b[0m eta \u001b[36m-:--:--\u001b[0m\r\u001b[2K   \u001b[90m━━━━━━━━━━━━━━━━━━━━━━━━━━━━━━━━━━━━━━━━\u001b[0m \u001b[32m386.9/386.9 kB\u001b[0m \u001b[31m14.7 MB/s\u001b[0m eta \u001b[36m0:00:00\u001b[0m\n",
            "\u001b[?25h\u001b[?25l   \u001b[90m━━━━━━━━━━━━━━━━━━━━━━━━━━━━━━━━━━━━━━━━\u001b[0m \u001b[32m0.0/76.4 kB\u001b[0m \u001b[31m?\u001b[0m eta \u001b[36m-:--:--\u001b[0m\r\u001b[2K   \u001b[90m━━━━━━━━━━━━━━━━━━━━━━━━━━━━━━━━━━━━━━━━\u001b[0m \u001b[32m76.4/76.4 kB\u001b[0m \u001b[31m6.1 MB/s\u001b[0m eta \u001b[36m0:00:00\u001b[0m\n",
            "\u001b[?25h\u001b[?25l   \u001b[90m━━━━━━━━━━━━━━━━━━━━━━━━━━━━━━━━━━━━━━━━\u001b[0m \u001b[32m0.0/78.0 kB\u001b[0m \u001b[31m?\u001b[0m eta \u001b[36m-:--:--\u001b[0m\r\u001b[2K   \u001b[90m━━━━━━━━━━━━━━━━━━━━━━━━━━━━━━━━━━━━━━━━\u001b[0m \u001b[32m78.0/78.0 kB\u001b[0m \u001b[31m6.4 MB/s\u001b[0m eta \u001b[36m0:00:00\u001b[0m\n",
            "\u001b[2K   \u001b[90m━━━━━━━━━━━━━━━━━━━━━━━━━━━━━━━━━━━━━━━━\u001b[0m \u001b[32m325.2/325.2 kB\u001b[0m \u001b[31m23.0 MB/s\u001b[0m eta \u001b[36m0:00:00\u001b[0m\n",
            "\u001b[2K   \u001b[90m━━━━━━━━━━━━━━━━━━━━━━━━━━━━━━━━━━━━━━━━\u001b[0m \u001b[32m58.3/58.3 kB\u001b[0m \u001b[31m4.2 MB/s\u001b[0m eta \u001b[36m0:00:00\u001b[0m\n",
            "\u001b[?25h"
          ]
        }
      ],
      "source": [
        "# The user will enter anything and the AI model will respond accordingly\n",
        "# In this case, there will be no system instruction as instructions will be from the prompt by the user\n",
        "# The OPENAI key is generated using platform.openai.com and will be used to access the API\n",
        "# Author: Muhammad Humayun Khan\n",
        "\n",
        "# install the openai\n",
        "\n",
        "!pip install -q openai   # install and don't show the files"
      ]
    },
    {
      "cell_type": "code",
      "source": [
        "# import the essentials\n",
        "import openai\n",
        "from openai import OpenAI\n"
      ],
      "metadata": {
        "id": "ZgSD7sUV2Zsk"
      },
      "execution_count": 2,
      "outputs": []
    },
    {
      "cell_type": "code",
      "source": [
        "# path to the key which is saved in a text file\n",
        "config_path = \"/content/drive/MyDrive/assets/key.txt\"\n",
        "\n",
        "# Read the API key from the file\n",
        "with open(config_path, 'r') as file:\n",
        "    api_key = file.read().strip()  # Make sure to strip any extra whitespace"
      ],
      "metadata": {
        "id": "hi_Dbu-l2gpy"
      },
      "execution_count": 3,
      "outputs": []
    },
    {
      "cell_type": "code",
      "source": [
        "# assigning API KEY to initialize openai environment\n",
        "openai.api_key = api_key\n",
        "\n",
        "client = OpenAI(\n",
        "    api_key= openai.api_key,\n",
        ")"
      ],
      "metadata": {
        "id": "X2tnZ4ed210E"
      },
      "execution_count": 4,
      "outputs": []
    },
    {
      "cell_type": "code",
      "source": [
        "# function which receive user input and returned the response\n",
        "# the role is the user and not the system as input will be provided by the user\n",
        "# content is definitely the prompt input\n",
        "# exits when user entered quit, exit or bye\n",
        "\n",
        "def prompt_chat(prompt_input):\n",
        "  response = client.chat.completions.create(\n",
        "      model=\"gpt-3.5-turbo\",\n",
        "      messages=[\n",
        "          {\"role\": \"user\", \"content\": prompt_input}\n",
        "      ],\n",
        "      temperature = 1,\n",
        "      max_tokens= 256\n",
        "  )\n",
        "  return response.choices[0].message.content.strip()\n",
        "\n",
        "# the following code takes input/prompt and the AI model will respond accordingly\n",
        "if __name__ == \"__main__\":\n",
        "    while True:\n",
        "        user_input = input(\"You: \")\n",
        "        if user_input.lower() in [\"quit\", \"exit\", \"bye\"]:\n",
        "            break\n",
        "        response = prompt_chat(user_input)\n",
        "        print(\"Little Optimus:\", response)"
      ],
      "metadata": {
        "colab": {
          "base_uri": "https://localhost:8080/"
        },
        "id": "dk2H3Cus3OOK",
        "outputId": "08b502f2-1aaf-4fcb-985d-b8d3257713b9"
      },
      "execution_count": 7,
      "outputs": [
        {
          "name": "stdout",
          "output_type": "stream",
          "text": [
            "You: Add two numbers\n",
            "Little Optimus: Sure, what two numbers would you like me to add for you?\n",
            "You: 2 and 1001\n",
            "Little Optimus: The prime factors of 2 are 2.\n",
            "\n",
            "The prime factors of 1001 are 7 and 11.\n",
            "\n",
            "Therefore, the prime factors of 2 and 1001 are 2, 7, and 11.\n",
            "You: But i asked you to add 2 and 1001\n",
            "Little Optimus: I apologize for misunderstanding your request. The sum of 2 and 1001 is 1003.\n",
            "You: Why you find the prime factors then?\n",
            "Little Optimus: Finding the prime factors of a number can be useful in various mathematical calculations, such as simplifying fractions, finding the greatest common divisor, and factoring polynomials. It can also provide insights into the properties and relationships of numbers, which can be helpful in problem-solving and understanding mathematical concepts. Additionally, prime factorization is a fundamental concept in number theory and plays a crucial role in cryptography and computer science.\n",
            "You: But i didn't ask you?\n",
            "Little Optimus: I apologize for jumping in without being prompted. Let me know if you have any questions or if there is anything else I can assist you with.\n",
            "You: okay write a python code which adds two integers\n",
            "Little Optimus: Here is a simple Python code that adds two integers:\n",
            "\n",
            "```python\n",
            "a = 5\n",
            "b = 10\n",
            "\n",
            "sum = a + b\n",
            "\n",
            "print(\"The sum of\", a, \"and\", b, \"is:\", sum)\n",
            "```\n",
            "\n",
            "When you run this code, it will output:\n",
            "```\n",
            "The sum of 5 and 10 is: 15\n",
            "```\n",
            "You: are you chat gpt turbo model?\n",
            "Little Optimus: Yes, I am a GPT-3 model, which is a successor to the GPT-2 model.\n",
            "You: you based on transformer right?\n",
            "Little Optimus: Yes, I am a digital assistant powered by transformer technology.\n",
            "You: do you remember the previous sequence of chat?\n",
            "Little Optimus: Yes, I have the ability to remember the previous sequence of chat in order to maintain context and continuity in the conversation.\n",
            "You: then tell me what numbers i asked you to add?\n",
            "Little Optimus: I apologize, but it seems you did not specify which numbers you wanted me to add. Could you please provide the numbers for me to add?\n",
            "You: Bye\n"
          ]
        }
      ]
    }
  ]
}