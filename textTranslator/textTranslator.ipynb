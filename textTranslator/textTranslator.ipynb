{
  "nbformat": 4,
  "nbformat_minor": 0,
  "metadata": {
    "colab": {
      "provenance": []
    },
    "kernelspec": {
      "name": "python3",
      "display_name": "Python 3"
    },
    "language_info": {
      "name": "python"
    }
  },
  "cells": [
    {
      "cell_type": "code",
      "execution_count": 1,
      "metadata": {
        "colab": {
          "base_uri": "https://localhost:8080/"
        },
        "id": "Z1S6rU4H1-RX",
        "outputId": "47859c32-6a13-41c3-f207-ee1ef5a2b40b"
      },
      "outputs": [
        {
          "output_type": "stream",
          "name": "stdout",
          "text": [
            "\u001b[?25l   \u001b[90m━━━━━━━━━━━━━━━━━━━━━━━━━━━━━━━━━━━━━━━━\u001b[0m \u001b[32m0.0/386.9 kB\u001b[0m \u001b[31m?\u001b[0m eta \u001b[36m-:--:--\u001b[0m\r\u001b[2K   \u001b[91m━━━━━━━━━━━━━━━━━━━━━━━━━━━━━━━━━━━━━━━\u001b[0m\u001b[90m╺\u001b[0m \u001b[32m378.9/386.9 kB\u001b[0m \u001b[31m16.5 MB/s\u001b[0m eta \u001b[36m0:00:01\u001b[0m\r\u001b[2K   \u001b[90m━━━━━━━━━━━━━━━━━━━━━━━━━━━━━━━━━━━━━━━━\u001b[0m \u001b[32m386.9/386.9 kB\u001b[0m \u001b[31m9.4 MB/s\u001b[0m eta \u001b[36m0:00:00\u001b[0m\n",
            "\u001b[?25h\u001b[?25l   \u001b[90m━━━━━━━━━━━━━━━━━━━━━━━━━━━━━━━━━━━━━━━━\u001b[0m \u001b[32m0.0/76.4 kB\u001b[0m \u001b[31m?\u001b[0m eta \u001b[36m-:--:--\u001b[0m\r\u001b[2K   \u001b[90m━━━━━━━━━━━━━━━━━━━━━━━━━━━━━━━━━━━━━━━━\u001b[0m \u001b[32m76.4/76.4 kB\u001b[0m \u001b[31m3.9 MB/s\u001b[0m eta \u001b[36m0:00:00\u001b[0m\n",
            "\u001b[?25h\u001b[?25l   \u001b[90m━━━━━━━━━━━━━━━━━━━━━━━━━━━━━━━━━━━━━━━━\u001b[0m \u001b[32m0.0/78.0 kB\u001b[0m \u001b[31m?\u001b[0m eta \u001b[36m-:--:--\u001b[0m\r\u001b[2K   \u001b[90m━━━━━━━━━━━━━━━━━━━━━━━━━━━━━━━━━━━━━━━━\u001b[0m \u001b[32m78.0/78.0 kB\u001b[0m \u001b[31m4.3 MB/s\u001b[0m eta \u001b[36m0:00:00\u001b[0m\n",
            "\u001b[2K   \u001b[90m━━━━━━━━━━━━━━━━━━━━━━━━━━━━━━━━━━━━━━━━\u001b[0m \u001b[32m325.2/325.2 kB\u001b[0m \u001b[31m12.1 MB/s\u001b[0m eta \u001b[36m0:00:00\u001b[0m\n",
            "\u001b[2K   \u001b[90m━━━━━━━━━━━━━━━━━━━━━━━━━━━━━━━━━━━━━━━━\u001b[0m \u001b[32m58.3/58.3 kB\u001b[0m \u001b[31m2.4 MB/s\u001b[0m eta \u001b[36m0:00:00\u001b[0m\n",
            "\u001b[?25h"
          ]
        }
      ],
      "source": [
        "# The user will provide any language sentences and the AI model will detect and translate\n",
        "# In this case, the \"role\" will be the \"system\" as the system will be instructed to detect and translate\n",
        "# the content will be provide by the user\n",
        "# The OPENAI key is generated using platform.openai.com and will be used to access the API\n",
        "# Author: Muhammad Humayun Khan\n",
        "\n",
        "# install the openai\n",
        "\n",
        "!pip install -q openai   # install and don't show the files"
      ]
    },
    {
      "cell_type": "code",
      "source": [
        "# import the essentials\n",
        "import openai\n",
        "from openai import OpenAI\n"
      ],
      "metadata": {
        "id": "ZgSD7sUV2Zsk"
      },
      "execution_count": 2,
      "outputs": []
    },
    {
      "cell_type": "code",
      "source": [
        "# path to the key which is saved in a text file\n",
        "config_path = \"/content/drive/MyDrive/assets/key.txt\"\n",
        "\n",
        "# Read the API key from the file\n",
        "with open(config_path, 'r') as file:\n",
        "    api_key = file.read().strip()  # Make sure to strip any extra whitespace"
      ],
      "metadata": {
        "id": "hi_Dbu-l2gpy"
      },
      "execution_count": 3,
      "outputs": []
    },
    {
      "cell_type": "code",
      "source": [
        "# assigning API KEY to initialize openai environment\n",
        "openai.api_key = api_key\n",
        "\n",
        "client = OpenAI(\n",
        "    api_key= openai.api_key,\n",
        ")"
      ],
      "metadata": {
        "id": "X2tnZ4ed210E"
      },
      "execution_count": 4,
      "outputs": []
    },
    {
      "cell_type": "code",
      "source": [
        "# function which receive user provided text, detect and translate\n",
        "\n",
        "def text_translate(text):\n",
        "  response = client.chat.completions.create(\n",
        "      model=\"gpt-3.5-turbo\",\n",
        "      messages=[\n",
        "          {\"role\": \"system\", \"content\": \"You are a translation assistant. Detect and translate the following text to English\"},\n",
        "          {\"role\": \"user\", \"content\": text}\n",
        "      ],\n",
        "      temperature = 1,\n",
        "      max_tokens= 256\n",
        "  )\n",
        "  return response.choices[0].message.content.strip()\n",
        "\n",
        "# the following code takes input/prompt and the AI model will respond accordingly\n",
        "if __name__ == \"__main__\":\n",
        "    while True:\n",
        "        user_input = input(\"Provide the text to detect and translate: \")\n",
        "        if user_input.lower() in [\"quit\", \"exit\", \"bye\"]:\n",
        "            break\n",
        "        response = text_translate(user_input)\n",
        "        print(\"Little Optimus:\", response)\n",
        "        print(\"\\n\")"
      ],
      "metadata": {
        "colab": {
          "base_uri": "https://localhost:8080/"
        },
        "id": "dk2H3Cus3OOK",
        "outputId": "aa0aba6c-a318-4a4f-fd66-12d4e7eaf109"
      },
      "execution_count": 5,
      "outputs": [
        {
          "name": "stdout",
          "output_type": "stream",
          "text": [
            "Provide the text to detect and translate: snga chal de\n",
            "Little Optimus: I'm sorry, but the text \"snga chal de\" does not appear to be in a recognizable language or format. Can you provide more context or check for typos so I can assist you with a translation?\n",
            "\n",
            "\n",
            "Provide the text to detect and translate: د OpenAI نړۍ ته ښه راغلاست\n",
            "Little Optimus: OpenAI is very advanced\n",
            "\n",
            "\n",
            "Provide the text to detect and translate: benvenuto nel mondo di OpenAI\n",
            "Little Optimus: Welcome to the world of OpenAI\n",
            "\n",
            "\n",
            "Provide the text to detect and translate: quit\n"
          ]
        }
      ]
    }
  ]
}