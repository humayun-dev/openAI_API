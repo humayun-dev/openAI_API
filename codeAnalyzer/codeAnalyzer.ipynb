{
  "nbformat": 4,
  "nbformat_minor": 0,
  "metadata": {
    "colab": {
      "provenance": []
    },
    "kernelspec": {
      "name": "python3",
      "display_name": "Python 3"
    },
    "language_info": {
      "name": "python"
    }
  },
  "cells": [
    {
      "cell_type": "code",
      "execution_count": 1,
      "metadata": {
        "colab": {
          "base_uri": "https://localhost:8080/"
        },
        "id": "Z1S6rU4H1-RX",
        "outputId": "a6633f81-f040-490c-bd7c-ced018a6c758"
      },
      "outputs": [
        {
          "output_type": "stream",
          "name": "stdout",
          "text": [
            "\u001b[?25l   \u001b[90m━━━━━━━━━━━━━━━━━━━━━━━━━━━━━━━━━━━━━━━━\u001b[0m \u001b[32m0.0/386.9 kB\u001b[0m \u001b[31m?\u001b[0m eta \u001b[36m-:--:--\u001b[0m\r\u001b[2K   \u001b[91m━━━━━━━━━━━━━━━━━━━━━━━━━━━━━━━━━━━━━━━\u001b[0m\u001b[90m╺\u001b[0m \u001b[32m378.9/386.9 kB\u001b[0m \u001b[31m11.3 MB/s\u001b[0m eta \u001b[36m0:00:01\u001b[0m\r\u001b[2K   \u001b[90m━━━━━━━━━━━━━━━━━━━━━━━━━━━━━━━━━━━━━━━━\u001b[0m \u001b[32m386.9/386.9 kB\u001b[0m \u001b[31m7.9 MB/s\u001b[0m eta \u001b[36m0:00:00\u001b[0m\n",
            "\u001b[?25h\u001b[?25l   \u001b[90m━━━━━━━━━━━━━━━━━━━━━━━━━━━━━━━━━━━━━━━━\u001b[0m \u001b[32m0.0/76.4 kB\u001b[0m \u001b[31m?\u001b[0m eta \u001b[36m-:--:--\u001b[0m\r\u001b[2K   \u001b[90m━━━━━━━━━━━━━━━━━━━━━━━━━━━━━━━━━━━━━━━━\u001b[0m \u001b[32m76.4/76.4 kB\u001b[0m \u001b[31m6.3 MB/s\u001b[0m eta \u001b[36m0:00:00\u001b[0m\n",
            "\u001b[2K   \u001b[90m━━━━━━━━━━━━━━━━━━━━━━━━━━━━━━━━━━━━━━━━\u001b[0m \u001b[32m78.0/78.0 kB\u001b[0m \u001b[31m6.5 MB/s\u001b[0m eta \u001b[36m0:00:00\u001b[0m\n",
            "\u001b[2K   \u001b[90m━━━━━━━━━━━━━━━━━━━━━━━━━━━━━━━━━━━━━━━━\u001b[0m \u001b[32m325.2/325.2 kB\u001b[0m \u001b[31m23.6 MB/s\u001b[0m eta \u001b[36m0:00:00\u001b[0m\n",
            "\u001b[2K   \u001b[90m━━━━━━━━━━━━━━━━━━━━━━━━━━━━━━━━━━━━━━━━\u001b[0m \u001b[32m58.3/58.3 kB\u001b[0m \u001b[31m4.7 MB/s\u001b[0m eta \u001b[36m0:00:00\u001b[0m\n",
            "\u001b[?25h"
          ]
        }
      ],
      "source": [
        "# The user will provide the programming code and the AI Model will analyze\n",
        "# the analysis will be writing, debugging or explaining the code\n",
        "# In this case, the \"role\" will be the \"system\" as the system will be instructed to code,debug or explain\n",
        "# the content will be provide by the user\n",
        "# The OPENAI key is generated using platform.openai.com and will be used to access the API\n",
        "# Author: Muhammad Humayun Khan\n",
        "\n",
        "# install the openai\n",
        "\n",
        "!pip install -q openai   # install and don't show the files"
      ]
    },
    {
      "cell_type": "code",
      "source": [
        "# import the essentials\n",
        "import openai\n",
        "from openai import OpenAI\n"
      ],
      "metadata": {
        "id": "ZgSD7sUV2Zsk"
      },
      "execution_count": 2,
      "outputs": []
    },
    {
      "cell_type": "code",
      "source": [
        "# path to the key which is saved in a text file\n",
        "config_path = \"/content/drive/MyDrive/assets/key.txt\"\n",
        "\n",
        "# Read the API key from the file\n",
        "with open(config_path, 'r') as file:\n",
        "    api_key = file.read().strip()  # Make sure to strip any extra whitespace"
      ],
      "metadata": {
        "id": "hi_Dbu-l2gpy"
      },
      "execution_count": 3,
      "outputs": []
    },
    {
      "cell_type": "code",
      "source": [
        "# assigning API KEY to initialize openai environment\n",
        "openai.api_key = api_key\n",
        "\n",
        "client = OpenAI(\n",
        "    api_key= openai.api_key,\n",
        ")"
      ],
      "metadata": {
        "id": "X2tnZ4ed210E"
      },
      "execution_count": 4,
      "outputs": []
    },
    {
      "cell_type": "code",
      "source": [
        "# function which receive user provided text and returned the summary\n",
        "\n",
        "def code_analyzer(text):\n",
        "  response = client.chat.completions.create(\n",
        "      model=\"gpt-3.5-turbo\",\n",
        "      messages=[\n",
        "          {\"role\": \"system\", \"content\": \"You are a coding assistant. Help the user with code generation, debugging, and optimization.\"},\n",
        "          {\"role\": \"user\", \"content\": text}\n",
        "      ],\n",
        "      temperature = 1,\n",
        "      max_tokens= 256\n",
        "  )\n",
        "  return response.choices[0].message.content.strip()\n",
        "\n",
        "# the following code takes input/prompt and the AI model will respond accordingly\n",
        "if __name__ == \"__main__\":\n",
        "    while True:\n",
        "        user_input = input(\"Provide the code \")\n",
        "        if user_input.lower() in [\"quit\", \"exit\", \"bye\"]:\n",
        "            break\n",
        "        response = code_analyzer(user_input)\n",
        "        print(\"Little Optimus:\", response)\n",
        "        print(\"\\n\")"
      ],
      "metadata": {
        "colab": {
          "base_uri": "https://localhost:8080/"
        },
        "id": "dk2H3Cus3OOK",
        "outputId": "972c46f3-e941-44e2-af41-f42dbf5f9795"
      },
      "execution_count": 5,
      "outputs": [
        {
          "name": "stdout",
          "output_type": "stream",
          "text": [
            "Provide the code Write code to add two integers using C++\n",
            "Little Optimus: Sure, here is a simple C++ code snippet to add two integers and print the result:\n",
            "\n",
            "```cpp\n",
            "#include <iostream>\n",
            "\n",
            "int main() {\n",
            "    int num1 = 5;\n",
            "    int num2 = 7;\n",
            "    int sum = num1 + num2;\n",
            "\n",
            "    std::cout << \"Sum: \" << sum << std::endl;\n",
            "\n",
            "    return 0;\n",
            "}\n",
            "```\n",
            "\n",
            "You can replace the values of `num1` and `num2` with any integers you want to add.\n",
            "\n",
            "\n",
            "Provide the code What kind of task you can perform being code analyzer?\n",
            "Little Optimus: As a code analyzer, I can assist you with the following tasks:\n",
            "\n",
            "1. Code generation: I can help you generate code snippets, templates, or full code examples for various programming languages and scenarios.\n",
            "\n",
            "2. Debugging: I can help you identify and fix bugs in your code by analyzing the code logic and structure.\n",
            "\n",
            "3. Code optimization: I can suggest improvements to your code to make it more efficient, readable, and maintainable.\n",
            "\n",
            "4. Best practices: I can provide guidance on coding best practices, design patterns, and principles to help you write high-quality code.\n",
            "\n",
            "5. Code review: I can review your code for errors, performance issues, security vulnerabilities, and adherence to coding standards.\n",
            "\n",
            "Let me know how I can assist you with your coding tasks!\n",
            "\n",
            "\n",
            "Provide the code using C++ detect bugs in the following code such as int a = 2, b = 3, c = 0; a+b = c; cout<<c\n",
            "Little Optimus: In C++, we cannot assign a value to an expression like `a + b`. Instead, we need to assign the result of the expression to a variable. Here is the corrected code:\n",
            "\n",
            "```cpp\n",
            "#include <iostream>\n",
            "\n",
            "int main() {\n",
            "    int a = 2, b = 3, c = 0;\n",
            "    c = a + b;\n",
            "    std::cout << c << std::endl;\n",
            "\n",
            "    return 0;\n",
            "}\n",
            "```\n",
            "\n",
            "In this code, we assign the result of `a + b` to the variable `c` before printing out its value.\n",
            "\n",
            "\n",
            "Provide the code okay is it better to use loop or recursion?\n",
            "Little Optimus: The choice between using a loop and recursion depends on the specific problem you are trying to solve and the language you are using. \n",
            "\n",
            "In general:\n",
            "\n",
            "1. **Loops** are often more efficient than recursion because they do not require the overhead of maintaining a call stack.\n",
            "2. **Recursion** can be more concise and easier to understand for certain problems, especially those that naturally lend themselves to a recursive solution (e.g., tree traversal).\n",
            "\n",
            "If performance is a concern, using a loop might be a better choice. If simplicity and readability are more important, recursion might be more appropriate. It's a good practice to consider the trade-offs and performance implications when deciding between the two.\n",
            "\n",
            "\n",
            "Provide the code pretend there are 3 cases so should i use the nested if-else or switch statement?\n",
            "Little Optimus: Both nested if-else statements and switch statements can be used to handle multiple cases in your code. Here are a few things to consider when deciding which one to use:\n",
            "\n",
            "1. **Readability:** If you have only a few cases (3 in your case), both nested if-else and switch statements are easy to read and understand. However, switch statements are generally considered more readable and expressive when dealing with multiple cases.\n",
            "\n",
            "2. **Complexity:** If the cases are simple and do not involve complex conditions, using a switch statement can make your code more concise and structured. If the cases involve complex conditions, nested if-else statements might be easier to manage.\n",
            "\n",
            "3. **Performance:** In some cases, using a switch statement might be more efficient than using nested if-else statements, especially when dealing with a larger number of cases. This can depend on the language and compiler optimizations.\n",
            "\n",
            "Based on the above considerations, in your scenario of handling 3 cases, you can use either a switch statement or nested if-else statements. If the cases are straightforward and simple, you might consider using a switch statement for better readability. However, if the cases involve complex conditions, using nested if-else statements might be a better choice.\n",
            "\n",
            "\n",
            "Provide the code why switch is faster than if-else\n",
            "Little Optimus: In general, the `switch` statement can be faster than a series of `if-else` statements because it is implemented in a way that allows for efficient jump table lookup. \n",
            "\n",
            "When you use `switch`, the compiler can optimize the code by creating a jump table where the program can directly jump to the appropriate case without having to evaluate each condition sequentially. This can lead to faster execution compared to evaluating each condition in an `if-else` ladder.\n",
            "\n",
            "However, the actual performance difference between `switch` and `if-else` may vary depending on the specific scenario and the compiler optimization. In some cases, the performance difference may be negligible.\n",
            "\n",
            "It's worth noting that the primary reason to choose `switch` over `if-else` should be based on readability and maintainability of the code, rather than just performance. Choose the appropriate control structure based on the specific requirements of your code rather than focusing solely on speed optimization.\n",
            "\n",
            "\n",
            "Provide the code when to use the nested loops? what are the conditions?\n",
            "Little Optimus: Nested loops are used when you want to repeat a set of instructions multiple times, and within each iteration of the outer loop, you need to execute another set of instructions multiple times controlled by an inner loop. \n",
            "\n",
            "Conditions when you might need nested loops:\n",
            "1. **Processing a 2D array**: When you are working with a 2D array or matrix, you might need nested loops to iterate over each element.\n",
            "2. **Generating combinations or permutations**: If you need to generate combinations or permutations of a set of elements, nested loops can be used.\n",
            "3. **Tree traversal**: When dealing with hierarchical data structures like trees, nested loops can be useful for traversal.\n",
            "4. **Matrix multiplication**: When performing matrix multiplication, you typically use nested loops for iterating over the elements of the matrices.\n",
            "5. **Pattern printing**: If you need to print patterns or shapes composed of characters, nested loops can help in controlling the rows and columns.\n",
            "\n",
            "Remember, using too many nested loops can impact the performance of your code, so it's important to optimize your loops and consider alternative approaches if possible.\n",
            "\n",
            "\n",
            "Provide the code quit\n"
          ]
        }
      ]
    }
  ]
}