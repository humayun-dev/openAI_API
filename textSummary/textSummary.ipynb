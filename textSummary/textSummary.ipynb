{
  "nbformat": 4,
  "nbformat_minor": 0,
  "metadata": {
    "colab": {
      "provenance": []
    },
    "kernelspec": {
      "name": "python3",
      "display_name": "Python 3"
    },
    "language_info": {
      "name": "python"
    }
  },
  "cells": [
    {
      "cell_type": "code",
      "execution_count": 1,
      "metadata": {
        "colab": {
          "base_uri": "https://localhost:8080/"
        },
        "id": "Z1S6rU4H1-RX",
        "outputId": "19669ec8-afb4-41c4-f5ef-de875627057d"
      },
      "outputs": [
        {
          "output_type": "stream",
          "name": "stdout",
          "text": [
            "\u001b[?25l   \u001b[90m━━━━━━━━━━━━━━━━━━━━━━━━━━━━━━━━━━━━━━━━\u001b[0m \u001b[32m0.0/386.9 kB\u001b[0m \u001b[31m?\u001b[0m eta \u001b[36m-:--:--\u001b[0m\r\u001b[2K   \u001b[90m━━━━━━━━━━━━━━━━━━━━━━━━━━━━━━━━━━━━━━━━\u001b[0m \u001b[32m386.9/386.9 kB\u001b[0m \u001b[31m15.7 MB/s\u001b[0m eta \u001b[36m0:00:00\u001b[0m\n",
            "\u001b[?25h\u001b[?25l   \u001b[90m━━━━━━━━━━━━━━━━━━━━━━━━━━━━━━━━━━━━━━━━\u001b[0m \u001b[32m0.0/76.4 kB\u001b[0m \u001b[31m?\u001b[0m eta \u001b[36m-:--:--\u001b[0m\r\u001b[2K   \u001b[90m━━━━━━━━━━━━━━━━━━━━━━━━━━━━━━━━━━━━━━━━\u001b[0m \u001b[32m76.4/76.4 kB\u001b[0m \u001b[31m4.8 MB/s\u001b[0m eta \u001b[36m0:00:00\u001b[0m\n",
            "\u001b[?25h\u001b[?25l   \u001b[90m━━━━━━━━━━━━━━━━━━━━━━━━━━━━━━━━━━━━━━━━\u001b[0m \u001b[32m0.0/78.0 kB\u001b[0m \u001b[31m?\u001b[0m eta \u001b[36m-:--:--\u001b[0m\r\u001b[2K   \u001b[90m━━━━━━━━━━━━━━━━━━━━━━━━━━━━━━━━━━━━━━━━\u001b[0m \u001b[32m78.0/78.0 kB\u001b[0m \u001b[31m4.7 MB/s\u001b[0m eta \u001b[36m0:00:00\u001b[0m\n",
            "\u001b[?25h\u001b[?25l   \u001b[90m━━━━━━━━━━━━━━━━━━━━━━━━━━━━━━━━━━━━━━━━\u001b[0m \u001b[32m0.0/325.2 kB\u001b[0m \u001b[31m?\u001b[0m eta \u001b[36m-:--:--\u001b[0m\r\u001b[2K   \u001b[90m━━━━━━━━━━━━━━━━━━━━━━━━━━━━━━━━━━━━━━━━\u001b[0m \u001b[32m325.2/325.2 kB\u001b[0m \u001b[31m15.4 MB/s\u001b[0m eta \u001b[36m0:00:00\u001b[0m\n",
            "\u001b[?25h\u001b[?25l   \u001b[90m━━━━━━━━━━━━━━━━━━━━━━━━━━━━━━━━━━━━━━━━\u001b[0m \u001b[32m0.0/58.3 kB\u001b[0m \u001b[31m?\u001b[0m eta \u001b[36m-:--:--\u001b[0m\r\u001b[2K   \u001b[90m━━━━━━━━━━━━━━━━━━━━━━━━━━━━━━━━━━━━━━━━\u001b[0m \u001b[32m58.3/58.3 kB\u001b[0m \u001b[31m3.1 MB/s\u001b[0m eta \u001b[36m0:00:00\u001b[0m\n",
            "\u001b[?25h"
          ]
        }
      ],
      "source": [
        "# The user will provide the text and the AI Model will summarize accordingly\n",
        "# In this case, the \"role\" will be the \"system\" as the system will be instructed to summarize the text\n",
        "# the content will be provide by the user\n",
        "# The OPENAI key is generated using platform.openai.com and will be used to access the API\n",
        "# Author: Muhammad Humayun Khan\n",
        "\n",
        "# install the openai\n",
        "\n",
        "!pip install -q openai   # install and don't show the files"
      ]
    },
    {
      "cell_type": "code",
      "source": [
        "# import the essentials\n",
        "import openai\n",
        "from openai import OpenAI\n"
      ],
      "metadata": {
        "id": "ZgSD7sUV2Zsk"
      },
      "execution_count": 2,
      "outputs": []
    },
    {
      "cell_type": "code",
      "source": [
        "# path to the key which is saved in a text file\n",
        "config_path = \"/content/drive/MyDrive/assets/key.txt\"\n",
        "\n",
        "# Read the API key from the file\n",
        "with open(config_path, 'r') as file:\n",
        "    api_key = file.read().strip()  # Make sure to strip any extra whitespace"
      ],
      "metadata": {
        "id": "hi_Dbu-l2gpy"
      },
      "execution_count": 3,
      "outputs": []
    },
    {
      "cell_type": "code",
      "source": [
        "# assigning API KEY to initialize openai environment\n",
        "openai.api_key = api_key\n",
        "\n",
        "client = OpenAI(\n",
        "    api_key= openai.api_key,\n",
        ")"
      ],
      "metadata": {
        "id": "X2tnZ4ed210E"
      },
      "execution_count": 4,
      "outputs": []
    },
    {
      "cell_type": "code",
      "source": [
        "# function which receive user provided text and returned the summary\n",
        "\n",
        "def text_summary(text):\n",
        "  response = client.chat.completions.create(\n",
        "      model=\"gpt-3.5-turbo\",\n",
        "      messages=[\n",
        "          {\"role\": \"system\", \"content\": \"You are a summarizer. Summarize the following text into a brief summary.\"},\n",
        "          {\"role\": \"user\", \"content\": text}\n",
        "      ],\n",
        "      temperature = 1,\n",
        "      max_tokens= 256\n",
        "  )\n",
        "  return response.choices[0].message.content.strip()\n",
        "\n",
        "# the following code takes input/prompt and the AI model will respond accordingly\n",
        "if __name__ == \"__main__\":\n",
        "    while True:\n",
        "        user_input = input(\"Enter text to summarize: \")\n",
        "        if user_input.lower() in [\"quit\", \"exit\", \"bye\"]:\n",
        "            break\n",
        "        response = text_summary(user_input)\n",
        "        print(\"Little Optimus:\", response)\n",
        "        print(\"\\n\")"
      ],
      "metadata": {
        "colab": {
          "base_uri": "https://localhost:8080/"
        },
        "id": "dk2H3Cus3OOK",
        "outputId": "792d2617-2fad-437a-9fed-68df8438384a"
      },
      "execution_count": 6,
      "outputs": [
        {
          "name": "stdout",
          "output_type": "stream",
          "text": [
            "Enter text to summarize: The increasing use of artificial intelligence in healthcare is revolutionizing patient diagnosis and treatment. AI algorithms analyze vast amounts of medical data, helping doctors make informed decisions faster and improving patient outcomes.\"\n",
            "Little Optimus: The rising utilization of artificial intelligence in healthcare is transforming patient diagnosis and treatment. AI algorithms process extensive medical data, assisting doctors in making quicker, informed decisions and enhancing patient outcomes.\n",
            "\n",
            "\n",
            "Enter text to summarize: Optimus AI is an advanced artificial intelligence model developed by OpenAI, designed to enhance productivity and decision-making across various industries. It leverages machine learning algorithms to analyze data, automate tasks, and provide insights, making it a valuable tool for businesses looking to optimize operations. With its ability to learn from user interactions, Optimus AI continuously improves its performance and adaptability to meet evolving needs.\n",
            "Little Optimus: Optimus AI, an advanced artificial intelligence model created by OpenAI, is designed to improve productivity and decision-making in different industries. It uses machine learning algorithms to analyze data, automate tasks, and offer insights for optimizing operations. The AI model continuously enhances its performance and adaptability by learning from user interactions. Ultimately, Optimus AI is a valuable tool for businesses seeking to improve efficiency and effectiveness.\n",
            "\n",
            "\n",
            "Enter text to summarize: this is 5 words sentence\n",
            "Little Optimus: The text consists of a five-word sentence.\n",
            "\n",
            "\n",
            "Enter text to summarize: You definitely needs fine tuning\n",
            "Little Optimus: The text implies that there is a need for improvement or adjustment.\n",
            "\n",
            "\n",
            "Enter text to summarize: quit\n"
          ]
        }
      ]
    }
  ]
}